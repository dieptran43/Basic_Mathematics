{
 "cells": [
  {
   "cell_type": "code",
   "execution_count": 1,
   "metadata": {},
   "outputs": [],
   "source": [
    "import random\n",
    "import numpy as np"
   ]
  },
  {
   "cell_type": "code",
   "execution_count": 2,
   "metadata": {},
   "outputs": [],
   "source": [
    "# Tạo ma trận m dòng và n cột tự nhập tay\n",
    "def create_matrix(m, n):\n",
    "    lst = []\n",
    "    for i in range(m):\n",
    "        lst_sub = []\n",
    "        for j in range(n):\n",
    "            s = \"M[\" + str(i + 1) + \",\" + str(j + 1) + \"]:\"\n",
    "            x = eval(input(s))\n",
    "            lst_sub.append(x)\n",
    "        lst.append(lst_sub)\n",
    "    return np.array(lst)"
   ]
  },
  {
   "cell_type": "code",
   "execution_count": 7,
   "metadata": {},
   "outputs": [],
   "source": [
    "# Tạo vector n phần tử nhập tay\n",
    "def create_vector(n):\n",
    "    lst = []\n",
    "    for i in range(n):\n",
    "        s = \"v[\" + str(i + 1) + \"]:\"\n",
    "        x = eval(input(s))\n",
    "        lst.append(x)\n",
    "    return np.array(lst)"
   ]
  },
  {
   "cell_type": "code",
   "execution_count": 5,
   "metadata": {},
   "outputs": [],
   "source": [
    "# Tạo ma trận m dòng, n cột, random từ số start,  đến số end\n",
    "\n",
    "def create_matrix_random(m, n, start, end):\n",
    "    lst = []\n",
    "    for i in range(m):\n",
    "        lst_sub = []\n",
    "        for j in range(n):\n",
    "            x = float(random.randint(start, end + 1))\n",
    "            lst_sub.append(x)\n",
    "        lst.append(lst_sub)\n",
    "    return np.array(lst)"
   ]
  },
  {
   "cell_type": "code",
   "execution_count": 8,
   "metadata": {},
   "outputs": [],
   "source": [
    "# Tạo vector n, random từ số start, đến số end\n",
    "def create_vector_random(n, start, end):\n",
    "    lst = []\n",
    "    for i in range(n):\n",
    "        x = float(random.randint(start, end + 1))\n",
    "        lst.append(x)\n",
    "    return np.array(lst)"
   ]
  },
  {
   "cell_type": "code",
   "execution_count": 9,
   "metadata": {},
   "outputs": [],
   "source": [
    "# các phép toán trên vectors\n",
    "def cal_vectors(op, u, v):\n",
    "    result = None\n",
    "    if op == \"+\":\n",
    "        result = u + v\n",
    "    elif op == \"-\":\n",
    "        result = u - v\n",
    "    elif op == \"*\":\n",
    "        result = u * v\n",
    "    elif op == \"/\":\n",
    "        result = u / v\n",
    "    elif op == \"dot\":\n",
    "        result = u.dot(v)\n",
    "    else:\n",
    "        result = None\n",
    "    return result"
   ]
  },
  {
   "cell_type": "code",
   "execution_count": 10,
   "metadata": {},
   "outputs": [],
   "source": [
    "# Các phép toán trên ma trận\n",
    "def cal_matrices(op, m1, m2):\n",
    "    result = None\n",
    "    if op == \"+\":\n",
    "        result = m1 + m2\n",
    "    elif op == \"-\":\n",
    "        result = m1 - m2\n",
    "    elif op == \"*\":\n",
    "        result = m1 * m2\n",
    "    elif op == \"/\":\n",
    "        result = m1 / m2\n",
    "    else:\n",
    "        result = None\n",
    "    return result      "
   ]
  },
  {
   "cell_type": "code",
   "execution_count": null,
   "metadata": {},
   "outputs": [],
   "source": []
  }
 ],
 "metadata": {
  "kernelspec": {
   "display_name": "Python 3",
   "language": "python",
   "name": "python3"
  },
  "language_info": {
   "codemirror_mode": {
    "name": "ipython",
    "version": 3
   },
   "file_extension": ".py",
   "mimetype": "text/x-python",
   "name": "python",
   "nbconvert_exporter": "python",
   "pygments_lexer": "ipython3",
   "version": "3.6.8"
  }
 },
 "nbformat": 4,
 "nbformat_minor": 2
}
