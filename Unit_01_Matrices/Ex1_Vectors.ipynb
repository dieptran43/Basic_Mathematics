{
 "cells": [
  {
   "cell_type": "markdown",
   "metadata": {},
   "source": [
    "# Câu 1: \n",
    "- Viết function cal_vectors(op, u, v) với op là các toán tử +, -, *, /, \"dot\"; u và v là vector(numpy array).\n",
    "Hãy thực hiện việc tính toán theo toán tử và hai vector được truyền vào. Kết quả trả về là một vector/ giá trị tương ứng.\n",
    "- Gọi function này với các toán tử khác nhau để xem kết quả\n"
   ]
  },
  {
   "cell_type": "markdown",
   "metadata": {},
   "source": [
    "# Câu 2: Vector Norm\n",
    "\n",
    "-  Viết function cal_vector_norm(t, v) với t là một trong các loại L1, L2, Max; v là vector. Hãy thực hiện việc tính toán theo loại và vector được truyền vào. Kết quả trả về là một giá trị tương ứng.\n",
    "- Gọi function này với các loại khác nhau để xem kết quả"
   ]
  },
  {
   "cell_type": "code",
   "execution_count": 2,
   "metadata": {},
   "outputs": [],
   "source": [
    "import numpy as np"
   ]
  },
  {
   "cell_type": "code",
   "execution_count": 3,
   "metadata": {},
   "outputs": [],
   "source": [
    "def cal_vectors(op, u, v):\n",
    "    result = None\n",
    "    if op == \"+\":\n",
    "        result = u + v\n",
    "    elif op == \"-\":\n",
    "        result = u - v\n",
    "    elif op == \"*\":\n",
    "        result = u * v\n",
    "    elif op == \"/\":\n",
    "        result = u / v\n",
    "    elif op == \"dot\":\n",
    "        result = u.dot(v)\n",
    "    else:\n",
    "        result = None\n",
    "    return result\n"
   ]
  },
  {
   "cell_type": "code",
   "execution_count": 4,
   "metadata": {},
   "outputs": [],
   "source": [
    "u = np.array([1,3,4,6,3,4,5])\n",
    "v = np.array([4,7,1,2,3,8,9])"
   ]
  },
  {
   "cell_type": "code",
   "execution_count": 5,
   "metadata": {},
   "outputs": [
    {
     "name": "stdout",
     "output_type": "stream",
     "text": [
      "+ [ 5 10  5  8  6 12 14]\n"
     ]
    }
   ],
   "source": [
    "print(\"+\", cal_vectors(\"+\", u, v))"
   ]
  },
  {
   "cell_type": "code",
   "execution_count": 6,
   "metadata": {},
   "outputs": [
    {
     "name": "stdout",
     "output_type": "stream",
     "text": [
      "- [-3 -4  3  4  0 -4 -4]\n"
     ]
    }
   ],
   "source": [
    "print(\"-\", cal_vectors(\"-\", u, v))"
   ]
  },
  {
   "cell_type": "code",
   "execution_count": 7,
   "metadata": {},
   "outputs": [
    {
     "name": "stdout",
     "output_type": "stream",
     "text": [
      "* [ 4 21  4 12  9 32 45]\n"
     ]
    }
   ],
   "source": [
    "print(\"*\", cal_vectors(\"*\", u, v))"
   ]
  },
  {
   "cell_type": "code",
   "execution_count": 8,
   "metadata": {},
   "outputs": [
    {
     "name": "stdout",
     "output_type": "stream",
     "text": [
      "/ [0.25       0.42857143 4.         3.         1.         0.5\n",
      " 0.55555556]\n"
     ]
    }
   ],
   "source": [
    "print(\"/\", cal_vectors(\"/\", u, v))"
   ]
  },
  {
   "cell_type": "code",
   "execution_count": 9,
   "metadata": {},
   "outputs": [
    {
     "name": "stdout",
     "output_type": "stream",
     "text": [
      "dot 127\n"
     ]
    }
   ],
   "source": [
    "print(\"dot\", cal_vectors(\"dot\", u, v))"
   ]
  },
  {
   "cell_type": "code",
   "execution_count": 10,
   "metadata": {},
   "outputs": [
    {
     "name": "stdout",
     "output_type": "stream",
     "text": [
      "none None\n"
     ]
    }
   ],
   "source": [
    "print(\"none\", cal_vectors(\"not\", u, v))"
   ]
  },
  {
   "cell_type": "markdown",
   "metadata": {},
   "source": [
    "# Câu 2: Vector Norm\n",
    "- Viết function cal_vector_norm(t, v) với t là một trong các loại L1, L2, Max; v là vector. Hãy thực hiện việc tính toán theo loại và vector được truyền vào. Kết quả trả về là một giá trị tương ứng.\n",
    "- Gọi function này với các loại khác nhau để xem kết quả"
   ]
  },
  {
   "cell_type": "code",
   "execution_count": 11,
   "metadata": {},
   "outputs": [],
   "source": [
    "import numpy as np\n",
    "from numpy.linalg import norm\n",
    "import math"
   ]
  },
  {
   "cell_type": "code",
   "execution_count": 12,
   "metadata": {},
   "outputs": [],
   "source": [
    "def cal_vector_norm(t, v):\n",
    "    result = None\n",
    "    if t == \"L1\":\n",
    "        result = norm(v, 1)\n",
    "    elif t == \"L2\":\n",
    "        result = norm(v)\n",
    "    elif t == \"Max\":\n",
    "        result = norm(v, math.inf)\n",
    "    else:\n",
    "        result = None\n",
    "    return result\n"
   ]
  },
  {
   "cell_type": "code",
   "execution_count": 13,
   "metadata": {},
   "outputs": [],
   "source": [
    "v = np.array([1,3,-4, 5,7,9, -16])"
   ]
  },
  {
   "cell_type": "code",
   "execution_count": 14,
   "metadata": {},
   "outputs": [
    {
     "name": "stdout",
     "output_type": "stream",
     "text": [
      "L1:  45.0\n"
     ]
    }
   ],
   "source": [
    "print(\"L1: \", cal_vector_norm(\"L1\", v))"
   ]
  },
  {
   "cell_type": "code",
   "execution_count": 15,
   "metadata": {},
   "outputs": [
    {
     "name": "stdout",
     "output_type": "stream",
     "text": [
      "L2:  20.904544960366874\n"
     ]
    }
   ],
   "source": [
    "print(\"L2: \", cal_vector_norm(\"L2\", v))"
   ]
  },
  {
   "cell_type": "code",
   "execution_count": 16,
   "metadata": {},
   "outputs": [
    {
     "name": "stdout",
     "output_type": "stream",
     "text": [
      "Max:  16.0\n"
     ]
    }
   ],
   "source": [
    "print(\"Max: \", cal_vector_norm(\"Max\", v))"
   ]
  },
  {
   "cell_type": "code",
   "execution_count": 17,
   "metadata": {},
   "outputs": [
    {
     "name": "stdout",
     "output_type": "stream",
     "text": [
      "Min:  None\n"
     ]
    }
   ],
   "source": [
    "print(\"Min: \", cal_vector_norm(\"Min\", v))"
   ]
  },
  {
   "cell_type": "code",
   "execution_count": null,
   "metadata": {},
   "outputs": [],
   "source": []
  }
 ],
 "metadata": {
  "kernelspec": {
   "display_name": "Python 3",
   "language": "python",
   "name": "python3"
  },
  "language_info": {
   "codemirror_mode": {
    "name": "ipython",
    "version": 3
   },
   "file_extension": ".py",
   "mimetype": "text/x-python",
   "name": "python",
   "nbconvert_exporter": "python",
   "pygments_lexer": "ipython3",
   "version": "3.6.8"
  }
 },
 "nbformat": 4,
 "nbformat_minor": 2
}
