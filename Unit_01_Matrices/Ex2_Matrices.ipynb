{
 "cells": [
  {
   "cell_type": "markdown",
   "metadata": {},
   "source": [
    "# Câu 1:\n",
    "- Viết function cal_matrices(op, m1, m2) với op là một trong các toán tử +, -, *, /; m1 và m2 là ma trận(numpy array).\n",
    "Hãy thực hiện việc tính toán theo toán tử và 2 ma trận truyền vào.\\\n",
    "- Gọi function này với các toán tử khác nhau để xem kết quả"
   ]
  },
  {
   "cell_type": "markdown",
   "metadata": {},
   "source": [
    "# Câu 2:\n",
    "- Cho ma trận A =[[1,3,4], [4,5,6], [7,8,9]] và ma trận B =[[2,3],[6,8], [5, 7]]\n",
    "- Thực hiện dot product cho A.B bằng dot, @"
   ]
  },
  {
   "cell_type": "code",
   "execution_count": 2,
   "metadata": {},
   "outputs": [],
   "source": [
    "import numpy as np"
   ]
  },
  {
   "cell_type": "code",
   "execution_count": 17,
   "metadata": {},
   "outputs": [],
   "source": [
    "def cal_matrices(op, m1, m2):\n",
    "    result = None\n",
    "    if op == \"+\":\n",
    "        result = m1 + m2\n",
    "    elif op == \"-\":\n",
    "        result = m1 - m2\n",
    "    elif op == \"*\":\n",
    "        result = m1 * m2\n",
    "    elif op == \"/\":\n",
    "        result = m1 / m2\n",
    "    elif op == \"dot\":\n",
    "        result = m1.dot(m2)\n",
    "    elif op == \"@\":\n",
    "        result = m1@m2\n",
    "    else:\n",
    "        result = None\n",
    "    return result        "
   ]
  },
  {
   "cell_type": "code",
   "execution_count": 4,
   "metadata": {},
   "outputs": [],
   "source": [
    "m1 = np.array([[1,3,2,4], [4,3,6,8], [5,6,3,1]])\n",
    "m2 = np.array([[2,4,5,1], [5,1,2,3], [1,8,1,9]])"
   ]
  },
  {
   "cell_type": "code",
   "execution_count": 6,
   "metadata": {},
   "outputs": [
    {
     "name": "stdout",
     "output_type": "stream",
     "text": [
      "+\n",
      "[[ 3  7  7  5]\n",
      " [ 9  4  8 11]\n",
      " [ 6 14  4 10]]\n"
     ]
    }
   ],
   "source": [
    "print(\"+\")\n",
    "print(cal_matrices(\"+\", m1, m2))"
   ]
  },
  {
   "cell_type": "code",
   "execution_count": 7,
   "metadata": {},
   "outputs": [
    {
     "name": "stdout",
     "output_type": "stream",
     "text": [
      "-\n",
      "[[-1 -1 -3  3]\n",
      " [-1  2  4  5]\n",
      " [ 4 -2  2 -8]]\n"
     ]
    }
   ],
   "source": [
    "print(\"-\")\n",
    "print(cal_matrices(\"-\", m1, m2))"
   ]
  },
  {
   "cell_type": "code",
   "execution_count": 8,
   "metadata": {},
   "outputs": [
    {
     "name": "stdout",
     "output_type": "stream",
     "text": [
      "*\n",
      "[[ 2 12 10  4]\n",
      " [20  3 12 24]\n",
      " [ 5 48  3  9]]\n"
     ]
    }
   ],
   "source": [
    "print(\"*\")\n",
    "print(cal_matrices(\"*\", m1, m2))"
   ]
  },
  {
   "cell_type": "code",
   "execution_count": 12,
   "metadata": {},
   "outputs": [
    {
     "name": "stdout",
     "output_type": "stream",
     "text": [
      "/\n",
      "[[0.5        0.75       0.4        4.        ]\n",
      " [0.8        3.         3.         2.66666667]\n",
      " [5.         0.75       3.         0.11111111]]\n"
     ]
    }
   ],
   "source": [
    "print(\"/\")\n",
    "print(cal_matrices(\"/\", m1, m2))"
   ]
  },
  {
   "cell_type": "code",
   "execution_count": 18,
   "metadata": {},
   "outputs": [
    {
     "name": "stdout",
     "output_type": "stream",
     "text": [
      "@\n"
     ]
    },
    {
     "ename": "ValueError",
     "evalue": "matmul: Input operand 1 has a mismatch in its core dimension 0, with gufunc signature (n?,k),(k,m?)->(n?,m?) (size 3 is different from 4)",
     "output_type": "error",
     "traceback": [
      "\u001b[1;31m---------------------------------------------------------------------------\u001b[0m",
      "\u001b[1;31mValueError\u001b[0m                                Traceback (most recent call last)",
      "\u001b[1;32m<ipython-input-18-5a98864cbf1c>\u001b[0m in \u001b[0;36m<module>\u001b[1;34m\u001b[0m\n\u001b[0;32m      1\u001b[0m \u001b[0mprint\u001b[0m\u001b[1;33m(\u001b[0m\u001b[1;34m\"@\"\u001b[0m\u001b[1;33m)\u001b[0m\u001b[1;33m\u001b[0m\u001b[1;33m\u001b[0m\u001b[0m\n\u001b[1;32m----> 2\u001b[1;33m \u001b[0mprint\u001b[0m\u001b[1;33m(\u001b[0m\u001b[0mcal_matrices\u001b[0m\u001b[1;33m(\u001b[0m\u001b[1;34m\"@\"\u001b[0m\u001b[1;33m,\u001b[0m \u001b[0mm1\u001b[0m\u001b[1;33m,\u001b[0m \u001b[0mm2\u001b[0m\u001b[1;33m)\u001b[0m\u001b[1;33m)\u001b[0m\u001b[1;33m\u001b[0m\u001b[1;33m\u001b[0m\u001b[0m\n\u001b[0m",
      "\u001b[1;32m<ipython-input-17-e4da88be9564>\u001b[0m in \u001b[0;36mcal_matrices\u001b[1;34m(op, m1, m2)\u001b[0m\n\u001b[0;32m     12\u001b[0m         \u001b[0mresult\u001b[0m \u001b[1;33m=\u001b[0m \u001b[0mm1\u001b[0m\u001b[1;33m.\u001b[0m\u001b[0mdot\u001b[0m\u001b[1;33m(\u001b[0m\u001b[0mm2\u001b[0m\u001b[1;33m)\u001b[0m\u001b[1;33m\u001b[0m\u001b[1;33m\u001b[0m\u001b[0m\n\u001b[0;32m     13\u001b[0m     \u001b[1;32melif\u001b[0m \u001b[0mop\u001b[0m \u001b[1;33m==\u001b[0m \u001b[1;34m\"@\"\u001b[0m\u001b[1;33m:\u001b[0m\u001b[1;33m\u001b[0m\u001b[1;33m\u001b[0m\u001b[0m\n\u001b[1;32m---> 14\u001b[1;33m         \u001b[0mresult\u001b[0m \u001b[1;33m=\u001b[0m \u001b[0mm1\u001b[0m\u001b[1;33m@\u001b[0m\u001b[0mm2\u001b[0m\u001b[1;33m\u001b[0m\u001b[1;33m\u001b[0m\u001b[0m\n\u001b[0m\u001b[0;32m     15\u001b[0m     \u001b[1;32melse\u001b[0m\u001b[1;33m:\u001b[0m\u001b[1;33m\u001b[0m\u001b[1;33m\u001b[0m\u001b[0m\n\u001b[0;32m     16\u001b[0m         \u001b[0mresult\u001b[0m \u001b[1;33m=\u001b[0m \u001b[1;32mNone\u001b[0m\u001b[1;33m\u001b[0m\u001b[1;33m\u001b[0m\u001b[0m\n",
      "\u001b[1;31mValueError\u001b[0m: matmul: Input operand 1 has a mismatch in its core dimension 0, with gufunc signature (n?,k),(k,m?)->(n?,m?) (size 3 is different from 4)"
     ]
    }
   ],
   "source": [
    "print(\"@\")\n",
    "print(cal_matrices(\"@\", m1, m2))"
   ]
  },
  {
   "cell_type": "code",
   "execution_count": 10,
   "metadata": {},
   "outputs": [
    {
     "name": "stdout",
     "output_type": "stream",
     "text": [
      "None\n",
      "None\n"
     ]
    }
   ],
   "source": [
    "print(\"None\")\n",
    "print(cal_matrices(\"No\", m1, m2))"
   ]
  },
  {
   "cell_type": "code",
   "execution_count": 19,
   "metadata": {},
   "outputs": [
    {
     "name": "stdout",
     "output_type": "stream",
     "text": [
      "None\n",
      "[[ 35  48]\n",
      " [ 68  94]\n",
      " [107 148]]\n"
     ]
    }
   ],
   "source": [
    "A = np.matrix([[1, 3, 3], [4, 5, 6], [7, 8, 9]])\n",
    "B = np.matrix( [[2, 3], [6, 8], [5, 7]])\n",
    "print(\"Dot\")\n",
    "print(cal_matrices(\"dot\", A, B))"
   ]
  },
  {
   "cell_type": "code",
   "execution_count": 20,
   "metadata": {},
   "outputs": [
    {
     "name": "stdout",
     "output_type": "stream",
     "text": [
      "@\n",
      "[[ 35  48]\n",
      " [ 68  94]\n",
      " [107 148]]\n"
     ]
    }
   ],
   "source": [
    "print(\"@\")\n",
    "print(cal_matrices(\"@\", A, B))"
   ]
  },
  {
   "cell_type": "code",
   "execution_count": null,
   "metadata": {},
   "outputs": [],
   "source": []
  }
 ],
 "metadata": {
  "kernelspec": {
   "display_name": "Python 3",
   "language": "python",
   "name": "python3"
  },
  "language_info": {
   "codemirror_mode": {
    "name": "ipython",
    "version": 3
   },
   "file_extension": ".py",
   "mimetype": "text/x-python",
   "name": "python",
   "nbconvert_exporter": "python",
   "pygments_lexer": "ipython3",
   "version": "3.6.8"
  }
 },
 "nbformat": 4,
 "nbformat_minor": 2
}
