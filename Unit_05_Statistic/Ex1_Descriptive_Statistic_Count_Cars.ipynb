{
 "cells": [
  {
   "cell_type": "markdown",
   "metadata": {},
   "source": [
    "## Bài toán: Một thanh tra giao thông đã đếm số lượng ô tô đi qua 1 điểm nhất định trong 100km khoảng thời gian(cách nhau 20 phút). Các quan sát được liệt kê trong tập count_cars.txt\n",
    "\n",
    "1. Tạo cars_array từ nội dung tập tin.\n",
    "2. Vẽ biểu đồ phân phối tần suất của car_arrays.\n",
    "3. Thống kê cơ bản cho cars_array, mean, mode( gồm những giá trị nào? số lần là bao nhiêu), max, min.\n",
    "4. Tìm range\n",
    "5. Cho biết giá trị ở phân vị thứ [5,15,25,50,75,90] của cars_array. Biểu diễn phân vị và giá trị tương ứng trên biểu đồ.\n",
    "6. Vẽ boxplot của car_array. Dùng z-score để xác định outliers( những index nào? giá trị outliers tương ứng cho những index đó?)\n",
    "7. Tìm IQR cho car_arrays\n",
    "8. Tìm phương sai(variance) của cars_array.\n",
    "9. Tìm độ xiên( skewness) của cars_array. Nhật xét kết quả.\n",
    "10. Tính độ nhọn Kurtoris của cars_array. Nhận xét kết quả.\n",
    "11. Tìm độ lệch chuẩn Standard deviation của cars_array."
   ]
  },
  {
   "cell_type": "code",
   "execution_count": 1,
   "metadata": {},
   "outputs": [],
   "source": [
    "import numpy as np\n",
    "from scipy import stats"
   ]
  },
  {
   "cell_type": "code",
   "execution_count": 2,
   "metadata": {},
   "outputs": [],
   "source": [
    "# Tạo cars_array từ nội dung tập tin\n",
    "f = open('Data\\count_cars.txt', 'r')"
   ]
  },
  {
   "cell_type": "code",
   "execution_count": 3,
   "metadata": {},
   "outputs": [
    {
     "data": {
      "text/plain": [
       "'23 20 16 18 30 22 26 15 5 18\\n14 17 11 37 21 6 10 20 22 25\\n19 19 19 20 12 23 24 17 18 16\\n27 16 28 26 15 29 19 35 20 17\\n12 30 21 22 20 15 18 16 23 24\\n15 24 28 19 24 22 17 19 8 18\\n17 18 23 21 25 19 20 22 21 21\\n16 20 19 11 23 17 23 13 17 26\\n26 14 15 16 27 18 21 24 33 20\\n21 27 18 22 17 20 14 21 22 19'"
      ]
     },
     "execution_count": 3,
     "metadata": {},
     "output_type": "execute_result"
    }
   ],
   "source": [
    "content = f.read()\n",
    "content"
   ]
  },
  {
   "cell_type": "code",
   "execution_count": 4,
   "metadata": {},
   "outputs": [],
   "source": [
    "cars = content.split()\n",
    "cars = list(map(int, cars))"
   ]
  },
  {
   "cell_type": "code",
   "execution_count": 5,
   "metadata": {},
   "outputs": [
    {
     "data": {
      "text/plain": [
       "array([23, 20, 16, 18, 30, 22, 26, 15,  5, 18, 14, 17, 11, 37, 21,  6, 10,\n",
       "       20, 22, 25, 19, 19, 19, 20, 12, 23, 24, 17, 18, 16, 27, 16, 28, 26,\n",
       "       15, 29, 19, 35, 20, 17, 12, 30, 21, 22, 20, 15, 18, 16, 23, 24, 15,\n",
       "       24, 28, 19, 24, 22, 17, 19,  8, 18, 17, 18, 23, 21, 25, 19, 20, 22,\n",
       "       21, 21, 16, 20, 19, 11, 23, 17, 23, 13, 17, 26, 26, 14, 15, 16, 27,\n",
       "       18, 21, 24, 33, 20, 21, 27, 18, 22, 17, 20, 14, 21, 22, 19])"
      ]
     },
     "execution_count": 5,
     "metadata": {},
     "output_type": "execute_result"
    }
   ],
   "source": [
    "cars_array = np.array(cars)\n",
    "cars_array"
   ]
  },
  {
   "cell_type": "code",
   "execution_count": 6,
   "metadata": {},
   "outputs": [
    {
     "data": {
      "text/plain": [
       "numpy.ndarray"
      ]
     },
     "execution_count": 6,
     "metadata": {},
     "output_type": "execute_result"
    }
   ],
   "source": [
    "type(cars_array)"
   ]
  },
  {
   "cell_type": "code",
   "execution_count": 7,
   "metadata": {},
   "outputs": [],
   "source": [
    "import matplotlib.pyplot as plt\n",
    "import seaborn as sns\n"
   ]
  },
  {
   "cell_type": "code",
   "execution_count": 8,
   "metadata": {},
   "outputs": [
    {
     "ename": "AttributeError",
     "evalue": "module 'matplotlib.pyplot' has no attribute 'displot'",
     "output_type": "error",
     "traceback": [
      "\u001b[1;31m---------------------------------------------------------------------------\u001b[0m",
      "\u001b[1;31mAttributeError\u001b[0m                            Traceback (most recent call last)",
      "\u001b[1;32m<ipython-input-8-c6799d9e7358>\u001b[0m in \u001b[0;36m<module>\u001b[1;34m\u001b[0m\n\u001b[0;32m      4\u001b[0m \u001b[0mplt\u001b[0m\u001b[1;33m.\u001b[0m\u001b[0mhist\u001b[0m\u001b[1;33m(\u001b[0m\u001b[0mcars_array\u001b[0m\u001b[1;33m)\u001b[0m\u001b[1;33m\u001b[0m\u001b[1;33m\u001b[0m\u001b[0m\n\u001b[0;32m      5\u001b[0m \u001b[0mplt\u001b[0m\u001b[1;33m.\u001b[0m\u001b[0msubplot\u001b[0m\u001b[1;33m(\u001b[0m\u001b[1;36m1\u001b[0m\u001b[1;33m,\u001b[0m\u001b[1;36m2\u001b[0m\u001b[1;33m,\u001b[0m\u001b[1;36m2\u001b[0m\u001b[1;33m)\u001b[0m\u001b[1;33m\u001b[0m\u001b[1;33m\u001b[0m\u001b[0m\n\u001b[1;32m----> 6\u001b[1;33m \u001b[0mplt\u001b[0m\u001b[1;33m.\u001b[0m\u001b[0mdisplot\u001b[0m\u001b[1;33m(\u001b[0m\u001b[0mcars_array\u001b[0m\u001b[1;33m)\u001b[0m\u001b[1;33m\u001b[0m\u001b[1;33m\u001b[0m\u001b[0m\n\u001b[0m\u001b[0;32m      7\u001b[0m \u001b[0mplt\u001b[0m\u001b[1;33m.\u001b[0m\u001b[0mshow\u001b[0m\u001b[1;33m(\u001b[0m\u001b[1;33m)\u001b[0m\u001b[1;33m\u001b[0m\u001b[1;33m\u001b[0m\u001b[0m\n",
      "\u001b[1;31mAttributeError\u001b[0m: module 'matplotlib.pyplot' has no attribute 'displot'"
     ]
    },
    {
     "data": {
      "image/png": "[encoded data removed]",
      "text/plain": [
       "<Figure size 576x288 with 2 Axes>"
      ]
     },
     "metadata": {
      "needs_background": "light"
     },
     "output_type": "display_data"
    }
   ],
   "source": [
    "# Vẽ biểu đồ phân phối tần suất của cars_array\n",
    "plt.figure(figsize = (8,4))\n",
    "plt.subplot(1,2,1)\n",
    "plt.hist(cars_array)\n",
    "plt.subplot(1,2,2)\n",
    "plt.displot(cars_array)\n",
    "plt.show()"
   ]
  },
  {
   "cell_type": "code",
   "execution_count": 9,
   "metadata": {},
   "outputs": [],
   "source": [
    "# Thống kê cơ bản cho cars_array, mean, median, mode, max, min"
   ]
  },
  {
   "cell_type": "code",
   "execution_count": 10,
   "metadata": {},
   "outputs": [
    {
     "data": {
      "text/plain": [
       "19.97"
      ]
     },
     "execution_count": 10,
     "metadata": {},
     "output_type": "execute_result"
    }
   ],
   "source": [
    "cars_array.mean()"
   ]
  },
  {
   "cell_type": "code",
   "execution_count": 11,
   "metadata": {},
   "outputs": [
    {
     "data": {
      "text/plain": [
       "5"
      ]
     },
     "execution_count": 11,
     "metadata": {},
     "output_type": "execute_result"
    }
   ],
   "source": [
    "cars_array.min()"
   ]
  },
  {
   "cell_type": "code",
   "execution_count": 17,
   "metadata": {},
   "outputs": [
    {
     "data": {
      "text/plain": [
       "ModeResult(mode=array([19]), count=array([9]))"
      ]
     },
     "execution_count": 17,
     "metadata": {},
     "output_type": "execute_result"
    }
   ],
   "source": [
    "stats.mode(cars_array)"
   ]
  },
  {
   "cell_type": "code",
   "execution_count": 18,
   "metadata": {},
   "outputs": [
    {
     "data": {
      "text/plain": [
       "32"
      ]
     },
     "execution_count": 18,
     "metadata": {},
     "output_type": "execute_result"
    }
   ],
   "source": [
    "# Tìm range\n",
    "range_cars = np.ptp(cars_array)\n",
    "range_cars"
   ]
  },
  {
   "cell_type": "code",
   "execution_count": 19,
   "metadata": {},
   "outputs": [],
   "source": [
    "# Cho biết giá trị ở phân vị thứ [5, 15, 25, 50, 75, 90] của cars_array."
   ]
  },
  {
   "cell_type": "code",
   "execution_count": 20,
   "metadata": {},
   "outputs": [
    {
     "data": {
      "text/plain": [
       "array([11., 15., 17., 20., 23., 27.])"
      ]
     },
     "execution_count": 20,
     "metadata": {},
     "output_type": "execute_result"
    }
   ],
   "source": [
    "percentiles = np.array([5,15,25,50,75,90])\n",
    "x = np.percentile(cars_array, percentiles)\n",
    "x"
   ]
  },
  {
   "cell_type": "code",
   "execution_count": 22,
   "metadata": {},
   "outputs": [
    {
     "data": {
      "image/png": "[encoded data removed]",
      "text/plain": [
       "<Figure size 432x288 with 1 Axes>"
      ]
     },
     "metadata": {
      "needs_background": "light"
     },
     "output_type": "display_data"
    }
   ],
   "source": [
    "#plot percentile as red x's\n",
    "plt.plot(x, percentiles/ 100, marker = 'D', color='red', linestyle='None')\n",
    "plt.show()"
   ]
  },
  {
   "cell_type": "code",
   "execution_count": 23,
   "metadata": {
    "scrolled": true
   },
   "outputs": [
    {
     "data": {
      "text/plain": [
       "<matplotlib.axes._subplots.AxesSubplot at 0x23124c054a8>"
      ]
     },
     "execution_count": 23,
     "metadata": {},
     "output_type": "execute_result"
    },
    {
     "data": {
      "image/png": "[encoded data removed]",
      "text/plain": [
       "<Figure size 432x288 with 1 Axes>"
      ]
     },
     "metadata": {
      "needs_background": "light"
     },
     "output_type": "display_data"
    }
   ],
   "source": [
    "# Vẽ boxplot của cars_array\n",
    "sns.boxplot(cars_array)"
   ]
  },
  {
   "cell_type": "code",
   "execution_count": 24,
   "metadata": {},
   "outputs": [
    {
     "name": "stdout",
     "output_type": "stream",
     "text": [
      "Index of outliers [0, 1, 2, 3, 4, 5, 6, 7, 8, 3, 10, 11, 12, 13, 14, 15, 16, 1, 5, 19, 20, 20, 20, 1, 24, 0, 26, 11, 3, 2, 30, 2, 32, 6, 7, 35, 20, 37, 1, 11, 24, 4, 14, 5, 1, 7, 3, 2, 0, 26, 7, 26, 32, 20, 26, 5, 11, 20, 58, 3, 11, 3, 0, 14, 19, 20, 1, 5, 14, 14, 2, 1, 20, 12, 0, 11, 0, 77, 11, 6, 6, 10, 7, 2, 30, 3, 14, 26, 88, 1, 14, 30, 3, 5, 11, 1, 10, 14, 5, 20]\n",
      "Outlier values:  [23 20 16 18 30 22 26 15  5 18 14 17 11 37 21  6 10 20 22 25 19 19 19 20\n",
      " 12 23 24 17 18 16 27 16 28 26 15 29 19 35 20 17 12 30 21 22 20 15 18 16\n",
      " 23 24 15 24 28 19 24 22 17 19  8 18 17 18 23 21 25 19 20 22 21 21 16 20\n",
      " 19 11 23 17 23 13 17 26 26 14 15 16 27 18 21 24 33 20 21 27 18 22 17 20\n",
      " 14 21 22 19]\n"
     ]
    }
   ],
   "source": [
    "# Dùng z-score để xác định outliers\n",
    "cars_z_score = stats.zscore(cars_array)\n",
    "outliers = cars_z_score[[(n <= 2.5) | (n >= 2.5) for n in cars_z_score]]\n",
    "indexes = [cars_z_score.tolist().index(i) for i in outliers]\n",
    "print('Index of outliers', indexes)\n",
    "print('Outlier values: ', cars_array[indexes])"
   ]
  },
  {
   "cell_type": "code",
   "execution_count": 25,
   "metadata": {},
   "outputs": [
    {
     "data": {
      "text/plain": [
       "6.0"
      ]
     },
     "execution_count": 25,
     "metadata": {},
     "output_type": "execute_result"
    }
   ],
   "source": [
    "#IQR cho car_arrays\n",
    "IQR = stats.iqr(cars_array)\n",
    "IQR"
   ]
  },
  {
   "cell_type": "code",
   "execution_count": 26,
   "metadata": {},
   "outputs": [
    {
     "data": {
      "text/plain": [
       "30.489099999999993"
      ]
     },
     "execution_count": 26,
     "metadata": {},
     "output_type": "execute_result"
    }
   ],
   "source": [
    "# Tìm phương sai(variance) của cars_array\n",
    "var_cars = np.var(cars_array)\n",
    "var_cars"
   ]
  },
  {
   "cell_type": "code",
   "execution_count": 27,
   "metadata": {},
   "outputs": [
    {
     "data": {
      "text/plain": [
       "5.52169358077755"
      ]
     },
     "execution_count": 27,
     "metadata": {},
     "output_type": "execute_result"
    }
   ],
   "source": [
    "# Tìm độ lệch chuẩn standard deviation của cars_array\n",
    "std_cars = np.std(cars_array)\n",
    "std_cars"
   ]
  },
  {
   "cell_type": "code",
   "execution_count": 28,
   "metadata": {},
   "outputs": [
    {
     "data": {
      "text/plain": [
       "0.21285259034645865"
      ]
     },
     "execution_count": 28,
     "metadata": {},
     "output_type": "execute_result"
    }
   ],
   "source": [
    "# Tìm độ xiên skewness của cars_array. Nhận xét kết quả.\n",
    "skew_cars = stats.skew(cars_array)\n",
    "skew_cars"
   ]
  },
  {
   "cell_type": "code",
   "execution_count": 29,
   "metadata": {},
   "outputs": [],
   "source": [
    "# Ta thấy skew > 0 nên phân phối lệch phải"
   ]
  },
  {
   "cell_type": "code",
   "execution_count": 30,
   "metadata": {},
   "outputs": [],
   "source": [
    "# Tìm độ nhọn kurtosis của các cars_array. Nhận xét kết quả."
   ]
  },
  {
   "cell_type": "code",
   "execution_count": 33,
   "metadata": {},
   "outputs": [
    {
     "data": {
      "text/plain": [
       "0.9396339028047"
      ]
     },
     "execution_count": 33,
     "metadata": {},
     "output_type": "execute_result"
    }
   ],
   "source": [
    "kurtosis_cars = stats.kurtosis(cars_array)\n",
    "kurtosis_cars\n",
    "# mặc định fisher = true thì kur = -3\n"
   ]
  },
  {
   "cell_type": "code",
   "execution_count": 34,
   "metadata": {},
   "outputs": [
    {
     "data": {
      "text/plain": [
       "3.9396339028047"
      ]
     },
     "execution_count": 34,
     "metadata": {},
     "output_type": "execute_result"
    }
   ],
   "source": [
    "kur_cars = stats.kurtosis(cars_array, fisher = False)\n",
    "kur_cars"
   ]
  },
  {
   "cell_type": "code",
   "execution_count": 35,
   "metadata": {},
   "outputs": [],
   "source": [
    "# Với độ nhọn = 3( theo Pearson) hoặc = 0( theo Kurtosis) thì sẽ là phân phối chuẩn, ở đây độ nhọn > 3 (>0) \n",
    "# Phân bố này nhọn hơn phân bố chuẩn"
   ]
  },
  {
   "cell_type": "code",
   "execution_count": null,
   "metadata": {},
   "outputs": [],
   "source": []
  }
 ],
 "metadata": {
  "kernelspec": {
   "display_name": "Python 3",
   "language": "python",
   "name": "python3"
  },
  "language_info": {
   "codemirror_mode": {
    "name": "ipython",
    "version": 3
   },
   "file_extension": ".py",
   "mimetype": "text/x-python",
   "name": "python",
   "nbconvert_exporter": "python",
   "pygments_lexer": "ipython3",
   "version": "3.6.8"
  }
 },
 "nbformat": 4,
 "nbformat_minor": 2
}
