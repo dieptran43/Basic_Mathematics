{
 "cells": [
  {
   "cell_type": "markdown",
   "metadata": {},
   "source": [
    "# Ex: Descriptive statistics - Life of battery\n",
    "\n",
    "### Bài toán 1: Một nhà sản xuất đang điều tra tuổi thọ hoạt động của pin máy tính xách tay( Battery 1). Các quan sát được liệt kê trong tập tin life_batteries.txt.\n",
    "\n",
    "1. Tạo life_array từ nội dung tập tin.\n",
    "2. Vẽ biểu đồ phân phối tần suất của file_array.\n",
    "3. Làm bảng phân phối tần suất cho dữ liệu theo các khoản 120- 129, 130-139, 140-149, 150-159, 160-169.\n",
    "4. Vẽ biểu đồ khối cho bảng phân phối tần suất trên. Biểu đồ câu 2 và câu 4 nói lên điều gì?\n",
    "5. Thống kê cơ bản cho life_array, mean, median, mode, max, min, variance, std.\n",
    "6. Tìm độ nhọn, độ xiên của dữ liệu. Nhận xét kết quả.\n",
    "\n",
    "### Bổ sung sau khi học bài 6:\n",
    "- Cho biết số lượng mẫu nhỏ hơn 150, xác suất các mẫu nhỏ hơn 150 là bao nhiêu? Nhận xét?\n",
    "- Tìm xác suất của P(140<= X <= 150). Nhận xét."
   ]
  },
  {
   "cell_type": "code",
   "execution_count": 1,
   "metadata": {},
   "outputs": [],
   "source": [
    "import numpy as np\n",
    "from scipy import stats"
   ]
  },
  {
   "cell_type": "code",
   "execution_count": 2,
   "metadata": {},
   "outputs": [],
   "source": [
    "#tạo life array từ nội dung tập tin\n",
    "f = open('Data\\life_batteries.txt', 'r')\n"
   ]
  },
  {
   "cell_type": "code",
   "execution_count": 3,
   "metadata": {},
   "outputs": [
    {
     "data": {
      "text/plain": [
       "'130\\t145\\t126\\t146\\n164\\t130\\t132\\t152\\n145\\t129\\t133\\t155\\n140\\t127\\t139\\t137\\n131\\t126\\t145\\t148\\n125\\t132\\t126\\t126\\n126\\t135\\t131\\t129\\n147\\t136\\t129\\t136\\n156\\t146\\t130\\t146\\n132\\t142\\t132\\t132\\n'"
      ]
     },
     "execution_count": 3,
     "metadata": {},
     "output_type": "execute_result"
    }
   ],
   "source": [
    "content = f.read()\n",
    "f.close()\n",
    "content"
   ]
  },
  {
   "cell_type": "code",
   "execution_count": 4,
   "metadata": {},
   "outputs": [
    {
     "data": {
      "text/plain": [
       "array([130, 145, 126, 146, 164, 130, 132, 152, 145, 129, 133, 155, 140,\n",
       "       127, 139, 137, 131, 126, 145, 148, 125, 132, 126, 126, 126, 135,\n",
       "       131, 129, 147, 136, 129, 136, 156, 146, 130, 146, 132, 142, 132,\n",
       "       132])"
      ]
     },
     "execution_count": 4,
     "metadata": {},
     "output_type": "execute_result"
    }
   ],
   "source": [
    "life = content.split()\n",
    "life = list(map(int,life))\n",
    "life_array = np.array(life)\n",
    "life_array"
   ]
  },
  {
   "cell_type": "code",
   "execution_count": 5,
   "metadata": {},
   "outputs": [],
   "source": [
    "import matplotlib.pyplot as plt\n",
    "import seaborn as sns"
   ]
  },
  {
   "cell_type": "code",
   "execution_count": 9,
   "metadata": {},
   "outputs": [
    {
     "data": {
      "image/png": "[encoded data removed]",
      "text/plain": [
       "<Figure size 576x288 with 2 Axes>"
      ]
     },
     "metadata": {
      "needs_background": "light"
     },
     "output_type": "display_data"
    }
   ],
   "source": [
    "# Vẽ biểu đồ phân phối tần suất của life_array và nhận xét kết quả\n",
    "plt.figure(figsize=(8,4))\n",
    "plt.subplot(1, 2,1)\n",
    "plt.hist(life_array)\n",
    "plt.subplot(1,2,2)\n",
    "sns.distplot(life_array)\n",
    "plt.show()"
   ]
  },
  {
   "cell_type": "code",
   "execution_count": null,
   "metadata": {},
   "outputs": [],
   "source": []
  },
  {
   "cell_type": "code",
   "execution_count": null,
   "metadata": {},
   "outputs": [],
   "source": []
  },
  {
   "cell_type": "markdown",
   "metadata": {},
   "source": [
    "## Bài toán 2: Xem xét một bộ dữ liệu 40 mẫu khác cho một nhãn hiệu pin khác (Battery 2). Các quan sát được liệt kê trong tập tin life_batteries2.txt.\n",
    "\n",
    "1. Tạo life_array2 từ  nội dung tập tin.\n",
    "2. So sánh 2 nhóm battery 1 (bài toán 1) và battery 2 theo histogram và nhận xét.\n",
    "3. Làm bảng phân phối tần suất của battery 2 cho dữ liệu 120-129, 130-139, 140-149, 150-159, 160-169\n",
    "4. Vẽ biểu đồ khối cho bảng phân phối tần suất trên. Vẽ biểu đồ câu 2 và câu 4 nói lên điều gì?\n",
    "5. So sánh hai nhóm mẫu dựa trên thống kê chung( dùng stats.describe(array)), nhận xét kết quả?\n",
    "6. Tạo dataframe chứa tần suất của cả 2 nhóm mẫu gồm có 2 cột là batteries_1 và batteries_1, index là các khoảng như câu 3.\n",
    "7. Vẽ boxplot cho cả 2 nhóm batteries_1 và batteries_2 => nhận xét.\n"
   ]
  },
  {
   "cell_type": "code",
   "execution_count": null,
   "metadata": {},
   "outputs": [],
   "source": []
  },
  {
   "cell_type": "code",
   "execution_count": null,
   "metadata": {},
   "outputs": [],
   "source": []
  },
  {
   "cell_type": "code",
   "execution_count": null,
   "metadata": {},
   "outputs": [],
   "source": []
  },
  {
   "cell_type": "code",
   "execution_count": null,
   "metadata": {},
   "outputs": [],
   "source": []
  },
  {
   "cell_type": "code",
   "execution_count": null,
   "metadata": {},
   "outputs": [],
   "source": []
  }
 ],
 "metadata": {
  "kernelspec": {
   "display_name": "Python 3",
   "language": "python",
   "name": "python3"
  },
  "language_info": {
   "codemirror_mode": {
    "name": "ipython",
    "version": 3
   },
   "file_extension": ".py",
   "mimetype": "text/x-python",
   "name": "python",
   "nbconvert_exporter": "python",
   "pygments_lexer": "ipython3",
   "version": "3.6.8"
  }
 },
 "nbformat": 4,
 "nbformat_minor": 2
}
