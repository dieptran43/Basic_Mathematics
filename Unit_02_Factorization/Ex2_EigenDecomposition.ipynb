{
 "cells": [
  {
   "cell_type": "markdown",
   "metadata": {},
   "source": [
    "# Câu 1:\n",
    "- Tạo ma trận A(5x5) với các giá trị ngẫu nhiên từ 1 đến 10\n",
    "- Phân tích thành eiganvalues và eiganvectors\n",
    "- Xác nhận eigenvector đầu tiên theo dot và theo eigenvalues có bằng nhau không?\n",
    "- Nếu bằng nhau thì tái cấu trúc A từ các eigenvector và eigenvalue"
   ]
  },
  {
   "cell_type": "code",
   "execution_count": 2,
   "metadata": {},
   "outputs": [],
   "source": [
    "import numpy as np\n",
    "from numpy.linalg import eig, inv\n",
    "from numpy import diag\n",
    "import HelperLIB.lib_matrix as lib"
   ]
  },
  {
   "cell_type": "code",
   "execution_count": 3,
   "metadata": {},
   "outputs": [
    {
     "data": {
      "text/plain": [
       "array([[ 1.,  9., 10.,  2.,  7.],\n",
       "       [ 2.,  7.,  3.,  4.,  4.],\n",
       "       [ 4.,  1.,  2.,  9.,  5.],\n",
       "       [ 6.,  4.,  5.,  1.,  3.],\n",
       "       [ 1.,  3.,  7.,  4.,  8.]])"
      ]
     },
     "execution_count": 3,
     "metadata": {},
     "output_type": "execute_result"
    }
   ],
   "source": [
    "A = lib.create_matrix_random(5,5,1,10)\n",
    "A"
   ]
  },
  {
   "cell_type": "code",
   "execution_count": 4,
   "metadata": {},
   "outputs": [],
   "source": [
    "values, vectors = eig(A)"
   ]
  },
  {
   "cell_type": "code",
   "execution_count": 5,
   "metadata": {},
   "outputs": [
    {
     "data": {
      "text/plain": [
       "array([21.95040495+0.j        , -4.44135201+3.38634115j,\n",
       "       -4.44135201-3.38634115j,  1.72779705+0.j        ,\n",
       "        4.20450202+0.j        ])"
      ]
     },
     "execution_count": 5,
     "metadata": {},
     "output_type": "execute_result"
    }
   ],
   "source": [
    "values"
   ]
  },
  {
   "cell_type": "code",
   "execution_count": 6,
   "metadata": {},
   "outputs": [
    {
     "data": {
      "text/plain": [
       "array([[-0.5566055 +0.j        ,  0.67336926+0.j        ,\n",
       "         0.67336926-0.j        ,  0.0478261 +0.j        ,\n",
       "        -0.1414961 +0.j        ],\n",
       "       [-0.38650495+0.j        , -0.03426504+0.04380147j,\n",
       "        -0.03426504-0.04380147j,  0.01037578+0.j        ,\n",
       "        -0.60042681+0.j        ],\n",
       "       [-0.42359136+0.j        , -0.48900842+0.22254456j,\n",
       "        -0.48900842-0.22254456j,  0.46524161+0.j        ,\n",
       "         0.03304166+0.j        ],\n",
       "       [-0.39871664+0.j        , -0.17948662-0.38180503j,\n",
       "        -0.17948662+0.38180503j,  0.40107   +0.j        ,\n",
       "        -0.27217433+0.j        ],\n",
       "       [-0.44988847+0.j        ,  0.27048624+0.06060133j,\n",
       "         0.27048624-0.06060133j, -0.78759006+0.j        ,\n",
       "         0.73776411+0.j        ]])"
      ]
     },
     "execution_count": 6,
     "metadata": {},
     "output_type": "execute_result"
    }
   ],
   "source": [
    "vectors"
   ]
  },
  {
   "cell_type": "code",
   "execution_count": 7,
   "metadata": {},
   "outputs": [
    {
     "data": {
      "text/plain": [
       "array([-12.21771623+0.j,  -8.48394019+0.j,  -9.2980018 +0.j,\n",
       "        -8.75199168+0.j,  -9.87523421+0.j])"
      ]
     },
     "execution_count": 7,
     "metadata": {},
     "output_type": "execute_result"
    }
   ],
   "source": [
    "# confirm first eigenvector\n",
    "B = A.dot(vectors[:, 0])\n",
    "B"
   ]
  },
  {
   "cell_type": "code",
   "execution_count": 8,
   "metadata": {},
   "outputs": [
    {
     "data": {
      "text/plain": [
       "array([-12.21771623+0.j,  -8.48394019+0.j,  -9.2980018 +0.j,\n",
       "        -8.75199168+0.j,  -9.87523421+0.j])"
      ]
     },
     "execution_count": 8,
     "metadata": {},
     "output_type": "execute_result"
    }
   ],
   "source": [
    "C = vectors[:, 0] * values[0]\n",
    "C"
   ]
  },
  {
   "cell_type": "code",
   "execution_count": 10,
   "metadata": {},
   "outputs": [],
   "source": [
    "# B == C\n",
    "#Tái cấu trúc A\n",
    "Q = vectors\n",
    "R = inv(Q)\n",
    "L = diag(values)"
   ]
  },
  {
   "cell_type": "code",
   "execution_count": 11,
   "metadata": {},
   "outputs": [
    {
     "data": {
      "text/plain": [
       "array([[-0.5566055 +0.j        ,  0.67336926+0.j        ,\n",
       "         0.67336926-0.j        ,  0.0478261 +0.j        ,\n",
       "        -0.1414961 +0.j        ],\n",
       "       [-0.38650495+0.j        , -0.03426504+0.04380147j,\n",
       "        -0.03426504-0.04380147j,  0.01037578+0.j        ,\n",
       "        -0.60042681+0.j        ],\n",
       "       [-0.42359136+0.j        , -0.48900842+0.22254456j,\n",
       "        -0.48900842-0.22254456j,  0.46524161+0.j        ,\n",
       "         0.03304166+0.j        ],\n",
       "       [-0.39871664+0.j        , -0.17948662-0.38180503j,\n",
       "        -0.17948662+0.38180503j,  0.40107   +0.j        ,\n",
       "        -0.27217433+0.j        ],\n",
       "       [-0.44988847+0.j        ,  0.27048624+0.06060133j,\n",
       "         0.27048624-0.06060133j, -0.78759006+0.j        ,\n",
       "         0.73776411+0.j        ]])"
      ]
     },
     "execution_count": 11,
     "metadata": {},
     "output_type": "execute_result"
    }
   ],
   "source": [
    "Q"
   ]
  },
  {
   "cell_type": "code",
   "execution_count": 12,
   "metadata": {},
   "outputs": [
    {
     "data": {
      "text/plain": [
       "array([[-0.30017633-0.00000000e+00j, -0.45032124-4.98657943e-17j,\n",
       "        -0.52982273-0.00000000e+00j, -0.45039797-0.00000000e+00j,\n",
       "        -0.56649444-0.00000000e+00j],\n",
       "       [ 0.60850562-2.21123890e-01j, -0.28494857-2.40864203e-01j,\n",
       "        -0.19519636-5.64609511e-01j, -0.17352288+9.76168384e-01j,\n",
       "        -0.17047245+1.46976677e-01j],\n",
       "       [ 0.60850562+2.21123890e-01j, -0.28494857+2.40864203e-01j,\n",
       "        -0.19519636+5.64609511e-01j, -0.17352288-9.76168384e-01j,\n",
       "        -0.17047245-1.46976677e-01j],\n",
       "       [ 0.78229107+2.76001626e-17j, -1.14515217+2.29944742e-18j,\n",
       "         0.68404706+2.04104878e-17j,  0.14697055-6.20111352e-17j,\n",
       "        -0.75835808-1.44517999e-17j],\n",
       "       [ 0.16955718+9.59390043e-18j, -1.32772635-2.98303442e-18j,\n",
       "         0.45753271+1.02794963e-18j,  0.16984969-2.26664299e-17j,\n",
       "         0.34957009-6.47851459e-18j]])"
      ]
     },
     "execution_count": 12,
     "metadata": {},
     "output_type": "execute_result"
    }
   ],
   "source": [
    "R"
   ]
  },
  {
   "cell_type": "code",
   "execution_count": 13,
   "metadata": {},
   "outputs": [
    {
     "data": {
      "text/plain": [
       "array([[21.95040495+0.j        ,  0.        +0.j        ,\n",
       "         0.        +0.j        ,  0.        +0.j        ,\n",
       "         0.        +0.j        ],\n",
       "       [ 0.        +0.j        , -4.44135201+3.38634115j,\n",
       "         0.        +0.j        ,  0.        +0.j        ,\n",
       "         0.        +0.j        ],\n",
       "       [ 0.        +0.j        ,  0.        +0.j        ,\n",
       "        -4.44135201-3.38634115j,  0.        +0.j        ,\n",
       "         0.        +0.j        ],\n",
       "       [ 0.        +0.j        ,  0.        +0.j        ,\n",
       "         0.        +0.j        ,  1.72779705+0.j        ,\n",
       "         0.        +0.j        ],\n",
       "       [ 0.        +0.j        ,  0.        +0.j        ,\n",
       "         0.        +0.j        ,  0.        +0.j        ,\n",
       "         4.20450202+0.j        ]])"
      ]
     },
     "execution_count": 13,
     "metadata": {},
     "output_type": "execute_result"
    }
   ],
   "source": [
    "L"
   ]
  },
  {
   "cell_type": "code",
   "execution_count": 14,
   "metadata": {},
   "outputs": [
    {
     "data": {
      "text/plain": [
       "array([[ 1.-1.61040380e-16j,  9.+3.89149863e-16j, 10.-4.63288373e-16j,\n",
       "         2.+2.97219545e-16j,  7.+1.35608016e-16j],\n",
       "       [ 2.+3.17883206e-18j,  7.+4.60898268e-16j,  3.+6.90093367e-17j,\n",
       "         4.-2.16121235e-17j,  4.+1.57437501e-18j],\n",
       "       [ 4.+2.86201589e-16j,  1.+6.82596279e-16j,  2.+6.38536184e-16j,\n",
       "         9.-4.80596506e-16j,  5.-1.66554183e-16j],\n",
       "       [ 6.-4.99636304e-17j,  4.+2.87496408e-16j,  5.-1.87878058e-16j,\n",
       "         1.+3.55653082e-16j,  3.+7.27551801e-17j],\n",
       "       [ 1.-7.20602607e-17j,  3.+4.51923493e-16j,  7.-1.79321306e-16j,\n",
       "         4.+1.27906382e-17j,  8.+4.47456430e-17j]])"
      ]
     },
     "execution_count": 14,
     "metadata": {},
     "output_type": "execute_result"
    }
   ],
   "source": [
    "A_new = Q.dot(L).dot(R)\n",
    "A_new"
   ]
  },
  {
   "cell_type": "code",
   "execution_count": null,
   "metadata": {},
   "outputs": [],
   "source": []
  },
  {
   "cell_type": "markdown",
   "metadata": {},
   "source": [
    "# Câu 2:\n",
    "- Tạo ma trận P(4x4) vuông với các giá trị ngẫu nhiên từ 1 đến 9\n",
    "- Tạo ma trận đối xứng S = $P.P^T$\n",
    "- Tìm eigenvalues và eigenvectors của S."
   ]
  },
  {
   "cell_type": "code",
   "execution_count": 16,
   "metadata": {},
   "outputs": [],
   "source": [
    "import numpy as np\n",
    "from numpy.linalg import eig, inv\n",
    "from numpy import diag"
   ]
  },
  {
   "cell_type": "code",
   "execution_count": 20,
   "metadata": {},
   "outputs": [
    {
     "name": "stdout",
     "output_type": "stream",
     "text": [
      "[[9 3 9 1]\n",
      " [9 2 9 3]\n",
      " [3 3 3 2]\n",
      " [1 8 5 4]]\n"
     ]
    }
   ],
   "source": [
    "n = 4\n",
    "P = np.random.randint(1,10,(n,n))\n",
    "print(p)"
   ]
  },
  {
   "cell_type": "code",
   "execution_count": 23,
   "metadata": {},
   "outputs": [
    {
     "data": {
      "text/plain": [
       "array([[164, 110, 107,  78],\n",
       "       [110,  84,  88,  60],\n",
       "       [107,  88, 117,  44],\n",
       "       [ 78,  60,  44,  76]])"
      ]
     },
     "execution_count": 23,
     "metadata": {},
     "output_type": "execute_result"
    }
   ],
   "source": [
    "S = P@P.T\n",
    "S"
   ]
  },
  {
   "cell_type": "code",
   "execution_count": 24,
   "metadata": {},
   "outputs": [],
   "source": [
    "values, vectors = eig(S)"
   ]
  },
  {
   "cell_type": "code",
   "execution_count": 25,
   "metadata": {},
   "outputs": [
    {
     "data": {
      "text/plain": [
       "array([369.31120059,   1.50709542,  21.17629135,  49.00541264])"
      ]
     },
     "execution_count": 25,
     "metadata": {},
     "output_type": "execute_result"
    }
   ],
   "source": [
    "values"
   ]
  },
  {
   "cell_type": "code",
   "execution_count": 26,
   "metadata": {},
   "outputs": [
    {
     "data": {
      "text/plain": [
       "array([[ 0.64225746,  0.25306278,  0.71150014,  0.13127126],\n",
       "       [ 0.472823  , -0.87373449, -0.11257796, -0.01877929],\n",
       "       [ 0.49692861,  0.34082426, -0.44792871, -0.6605003 ],\n",
       "       [ 0.34206099,  0.23745758, -0.52957873,  0.7390227 ]])"
      ]
     },
     "execution_count": 26,
     "metadata": {},
     "output_type": "execute_result"
    }
   ],
   "source": [
    "vectors"
   ]
  },
  {
   "cell_type": "code",
   "execution_count": null,
   "metadata": {},
   "outputs": [],
   "source": []
  }
 ],
 "metadata": {
  "kernelspec": {
   "display_name": "Python 3",
   "language": "python",
   "name": "python3"
  },
  "language_info": {
   "codemirror_mode": {
    "name": "ipython",
    "version": 3
   },
   "file_extension": ".py",
   "mimetype": "text/x-python",
   "name": "python",
   "nbconvert_exporter": "python",
   "pygments_lexer": "ipython3",
   "version": "3.6.8"
  }
 },
 "nbformat": 4,
 "nbformat_minor": 2
}
