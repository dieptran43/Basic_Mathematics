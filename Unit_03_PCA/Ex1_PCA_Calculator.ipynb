{
 "cells": [
  {
   "cell_type": "markdown",
   "metadata": {},
   "source": [
    "# Câu 1: Tính toán\n",
    "- Tạo 1 ma trận A(3000, 3) có các giá trị ngẫu nhiên từ 1 đến 255.\n",
    "- Áp dụng tính toán PCA\n",
    "- Trực quan hóa kết quả"
   ]
  },
  {
   "cell_type": "code",
   "execution_count": 1,
   "metadata": {},
   "outputs": [],
   "source": [
    "import numpy as np"
   ]
  },
  {
   "cell_type": "code",
   "execution_count": 2,
   "metadata": {},
   "outputs": [
    {
     "data": {
      "text/plain": [
       "(3000, 3)"
      ]
     },
     "execution_count": 2,
     "metadata": {},
     "output_type": "execute_result"
    }
   ],
   "source": [
    "A = np.random.randint(1, 256, (3000,3))\n",
    "A.shape"
   ]
  },
  {
   "cell_type": "code",
   "execution_count": 3,
   "metadata": {},
   "outputs": [
    {
     "data": {
      "text/plain": [
       "array([[ 48, 154, 167],\n",
       "       [183, 169, 214],\n",
       "       [  3,  12,  15],\n",
       "       [230, 242, 209],\n",
       "       [148, 186,  30],\n",
       "       [227, 179, 133],\n",
       "       [ 56,   3, 237],\n",
       "       [ 55, 211, 158],\n",
       "       [ 97,  42, 191],\n",
       "       [133, 167, 126]])"
      ]
     },
     "execution_count": 3,
     "metadata": {},
     "output_type": "execute_result"
    }
   ],
   "source": [
    "A[0:10]"
   ]
  },
  {
   "cell_type": "code",
   "execution_count": 4,
   "metadata": {},
   "outputs": [
    {
     "data": {
      "text/plain": [
       "array([128.72533333, 130.028     , 128.37666667])"
      ]
     },
     "execution_count": 4,
     "metadata": {},
     "output_type": "execute_result"
    }
   ],
   "source": [
    "#Columns' means\n",
    "M = np.mean(A.T, axis = 1)\n",
    "M"
   ]
  },
  {
   "cell_type": "code",
   "execution_count": 5,
   "metadata": {},
   "outputs": [
    {
     "data": {
      "text/plain": [
       "array([[ -80.72533333,   23.972     ,   38.62333333],\n",
       "       [  54.27466667,   38.972     ,   85.62333333],\n",
       "       [-125.72533333, -118.028     , -113.37666667],\n",
       "       [ 101.27466667,  111.972     ,   80.62333333],\n",
       "       [  19.27466667,   55.972     ,  -98.37666667],\n",
       "       [  98.27466667,   48.972     ,    4.62333333],\n",
       "       [ -72.72533333, -127.028     ,  108.62333333],\n",
       "       [ -73.72533333,   80.972     ,   29.62333333],\n",
       "       [ -31.72533333,  -88.028     ,   62.62333333],\n",
       "       [   4.27466667,   36.972     ,   -2.37666667]])"
      ]
     },
     "execution_count": 5,
     "metadata": {},
     "output_type": "execute_result"
    }
   ],
   "source": [
    "#Center columns by subtracting columns means\n",
    "C = A - M\n",
    "C[:10]"
   ]
  },
  {
   "cell_type": "code",
   "execution_count": 7,
   "metadata": {},
   "outputs": [
    {
     "data": {
      "text/plain": [
       "array([[5437.4937228 ,  152.66858019,  103.54964099],\n",
       "       [ 152.66858019, 5241.89651484,  -77.50804935],\n",
       "       [ 103.54964099,  -77.50804935, 5425.35657441]])"
      ]
     },
     "execution_count": 7,
     "metadata": {},
     "output_type": "execute_result"
    }
   ],
   "source": [
    "#calculate covariance matrix of centered matrix\n",
    "V = np.cov(C.T)\n",
    "V[:10]"
   ]
  },
  {
   "cell_type": "code",
   "execution_count": 8,
   "metadata": {},
   "outputs": [
    {
     "data": {
      "text/plain": [
       "array([5113.01563399, 5552.34762585, 5439.3835522 ])"
      ]
     },
     "execution_count": 8,
     "metadata": {},
     "output_type": "execute_result"
    }
   ],
   "source": [
    "#factorize covariance matrix\n",
    "values, vectors = np.linalg.eig(V)\n",
    "values"
   ]
  },
  {
   "cell_type": "code",
   "execution_count": 9,
   "metadata": {},
   "outputs": [
    {
     "data": {
      "text/plain": [
       "array([[ 0.48872312, -0.82057303, -0.29632686],\n",
       "       [-0.79501349, -0.2789906 , -0.53862585],\n",
       "       [-0.35930944, -0.49882275,  0.78871578]])"
      ]
     },
     "execution_count": 9,
     "metadata": {},
     "output_type": "execute_result"
    }
   ],
   "source": [
    "vectors"
   ]
  },
  {
   "cell_type": "code",
   "execution_count": 10,
   "metadata": {},
   "outputs": [
    {
     "data": {
      "text/plain": [
       "array([[-72.38812809, -35.22325301,  73.12628109, ...,  82.53977002,\n",
       "         75.14523139, -30.57259136],\n",
       "       [ 40.28687161, -98.12001653, 192.6503819 , ..., -72.27200109,\n",
       "        -37.42018543, -53.06628274],\n",
       "       [ 41.47197839,  30.45810633,  11.4067584 , ...,  58.61393174,\n",
       "         84.89456613,  28.10599693]])"
      ]
     },
     "execution_count": 10,
     "metadata": {},
     "output_type": "execute_result"
    }
   ],
   "source": [
    "#project data\n",
    "P = vectors.T.dot(C.T)\n",
    "P[:10]"
   ]
  },
  {
   "cell_type": "code",
   "execution_count": null,
   "metadata": {},
   "outputs": [],
   "source": []
  }
 ],
 "metadata": {
  "kernelspec": {
   "display_name": "Python 3",
   "language": "python",
   "name": "python3"
  },
  "language_info": {
   "codemirror_mode": {
    "name": "ipython",
    "version": 3
   },
   "file_extension": ".py",
   "mimetype": "text/x-python",
   "name": "python",
   "nbconvert_exporter": "python",
   "pygments_lexer": "ipython3",
   "version": "3.6.8"
  }
 },
 "nbformat": 4,
 "nbformat_minor": 2
}
